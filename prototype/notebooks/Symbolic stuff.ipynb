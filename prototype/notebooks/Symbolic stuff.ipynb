{
 "cells": [
  {
   "cell_type": "code",
   "execution_count": 18,
   "id": "4665b1ea",
   "metadata": {},
   "outputs": [],
   "source": [
    "import sympy as sym\n",
    "import numpy as np\n",
    "from sympy import lambdify\n",
    "from scipy.optimize import fsolve\n",
    "import scipy.stats as st\n",
    "import matplotlib.pyplot as plt\n",
    "import os\n",
    "from pathlib import Path\n",
    "from utils import project_root\n",
    "%matplotlib notebook"
   ]
  },
  {
   "cell_type": "code",
   "execution_count": 19,
   "id": "56df021c",
   "metadata": {},
   "outputs": [],
   "source": [
    "i = sym.symbols('i', cls=sym.Idx)\n",
    "x = sym.Indexed('x', i)\n",
    "y = sym.Indexed('y', i)\n",
    "loc = sym.symbols('loc', real=True)\n",
    "scale = sym.symbols (\"scale\", real=True)\n",
    "c = sym.symbols('c', real=True, positive=True)\n",
    "d = sym.symbols('d', real=True, positive=True)\n",
    "n = sym.symbols('n', real=True)\n",
    "j = sym.symbols('j', real=True, positive=True)\n",
    "k = sym.symbols('k', real=True, positive=True)\n",
    "m0 = sym.symbols('m0', real=True)\n",
    "s0 = sym.symbols('s0', real=True)\n",
    "m1 = sym.symbols('m1', real=True)\n",
    "s1 = sym.symbols('s1', real=True)"
   ]
  },
  {
   "cell_type": "code",
   "execution_count": 20,
   "id": "d096d815",
   "metadata": {
    "scrolled": true
   },
   "outputs": [
    {
     "name": "stdout",
     "output_type": "stream",
     "text": [
      "/home/glob/Documents/github/thesis/data\n"
     ]
    }
   ],
   "source": [
    "os.chdir(Path(project_root() / 'data'))\n",
    "print(os.getcwd())\n",
    "vel_resid = np.load('velocity_residuals.npy')"
   ]
  },
  {
   "cell_type": "markdown",
   "id": "c2cef443",
   "metadata": {},
   "source": [
    "Distributions that I can try: t\n",
    "- dweibull: clearly overfits the data with no reasonable explanation for the 2 peaks of the distribution\n",
    "- fisk, mielke, burr3, burr12, genlogistic only apply for a region of values for x \n",
    "- nct: We prefer the t-distribution over the nct because we assume that given a large enough dataset, the mean of our residuals will approximate 0\n",
    "- genhyperbolic: Presents an error in the upper tail when plotting the probability plot of the c.d.f., so we cannot safely adopt it\n",
    "- burr: Has no closed loop form for estimating c_hat, which is what mostly interests us\n",
    "- johnsonsu: Has closed loop only for mean\n",
    "- norminvgauss: Since the derivatives of the loglikelihood function involve the Bessel function, direct maximization is not an easy task \n",
    "- logistic: no closed loop form for loc, scale"
   ]
  },
  {
   "cell_type": "code",
   "execution_count": null,
   "id": "c0d080ba",
   "metadata": {},
   "outputs": [],
   "source": []
  },
  {
   "cell_type": "markdown",
   "id": "cd076143",
   "metadata": {
    "heading_collapsed": true
   },
   "source": [
    "# Normal GLRT with μ, σ changing"
   ]
  },
  {
   "cell_type": "code",
   "execution_count": 21,
   "id": "55e609d1",
   "metadata": {
    "hidden": true
   },
   "outputs": [
    {
     "data": {
      "text/latex": [
       "$\\displaystyle \\log{\\left(\\frac{s_{0}}{s_{1}} \\right)} - \\frac{\\left(- m_{1} + {x}_{i}\\right)^{2}}{2 s_{1}^{2}} + \\frac{\\left(- m_{0} + {x}_{i}\\right)^{2}}{2 s_{0}^{2}}$"
      ],
      "text/plain": [
       "log(s0/s1) - (-m1 + x[i])**2/(2*s1**2) + (-m0 + x[i])**2/(2*s0**2)"
      ]
     },
     "execution_count": 21,
     "metadata": {},
     "output_type": "execute_result"
    }
   ],
   "source": [
    "log_likelihood_normal = sym.log(s0/s1) + (x-m0)**2/(2*s0**2) - (x-m1)**2/(2*s1**2)\n",
    "log_likelihood_normal"
   ]
  },
  {
   "cell_type": "code",
   "execution_count": 22,
   "id": "416ec9a5",
   "metadata": {
    "hidden": true
   },
   "outputs": [
    {
     "data": {
      "text/latex": [
       "$\\displaystyle \\log{\\left(\\frac{s_{0}}{s_{1}} \\right)} + \\sum_{i=j}^{k} \\left(- \\frac{\\left(- m_{1} + {x}_{i}\\right)^{2}}{2 s_{1}^{2}} + \\frac{\\left(- m_{0} + {x}_{i}\\right)^{2}}{2 s_{0}^{2}}\\right)$"
      ],
      "text/plain": [
       "log(s0/s1) + Sum(-(-m1 + x[i])**2/(2*s1**2) + (-m0 + x[i])**2/(2*s0**2), (i, j, k))"
      ]
     },
     "execution_count": 22,
     "metadata": {},
     "output_type": "execute_result"
    }
   ],
   "source": [
    "f = (x-m0)**2/(2*s0**2) - (x-m1)**2/(2*s1**2)\n",
    "s = sym.log(s0/s1) + sym.Sum(f, (i,j,k))\n",
    "s"
   ]
  },
  {
   "cell_type": "code",
   "execution_count": 23,
   "id": "bfd9158e",
   "metadata": {
    "hidden": true
   },
   "outputs": [
    {
     "data": {
      "text/latex": [
       "$\\displaystyle \\frac{\\sum_{i=j}^{k} \\left(- m_{1} + {x}_{i}\\right)}{s_{1}^{2}}$"
      ],
      "text/plain": [
       "Sum(-m1 + x[i], (i, j, k))/s1**2"
      ]
     },
     "execution_count": 23,
     "metadata": {},
     "output_type": "execute_result"
    }
   ],
   "source": [
    "ds_dm = sym.simplify(sym.diff(s, m1))\n",
    "ds_dm"
   ]
  },
  {
   "cell_type": "code",
   "execution_count": 24,
   "id": "0cf1a766",
   "metadata": {
    "hidden": true
   },
   "outputs": [
    {
     "data": {
      "text/latex": [
       "$\\displaystyle - \\frac{1}{s_{1}} + \\frac{\\sum_{i=j}^{k} \\left(m_{1}^{2} - 2 m_{1} {x}_{i} + {x}_{i}^{2}\\right)}{s_{1}^{3}}$"
      ],
      "text/plain": [
       "-1/s1 + Sum(m1**2 - 2*m1*x[i] + x[i]**2, (i, j, k))/s1**3"
      ]
     },
     "execution_count": 24,
     "metadata": {},
     "output_type": "execute_result"
    }
   ],
   "source": [
    "ds_ds = sym.simplify(sym.diff(s, s1))\n",
    "ds_ds"
   ]
  },
  {
   "cell_type": "code",
   "execution_count": 25,
   "id": "3f95efe2",
   "metadata": {
    "hidden": true
   },
   "outputs": [
    {
     "data": {
      "text/latex": [
       "$\\displaystyle \\sqrt{m_{1}^{2} \\left(- j + k + 1\\right) + \\sum_{i=j}^{k} \\left(2 m_{1} {x}_{i} + {x}_{i}^{2}\\right)}$"
      ],
      "text/plain": [
       "sqrt(m1**2*(-j + k + 1) + Sum(2*m1*x[i] + x[i]**2, (i, j, k)))"
      ]
     },
     "execution_count": 25,
     "metadata": {},
     "output_type": "execute_result"
    }
   ],
   "source": [
    "# solving the 2 equations above gives:\n",
    "t1 = (k-j+1)*m1**2\n",
    "t2 = sym.Sum(2*x*m1 + x**2, (i,j,k))\n",
    "s_1 = sym.sqrt(t1 + t2)\n",
    "s_1"
   ]
  },
  {
   "cell_type": "code",
   "execution_count": 26,
   "id": "2aa20fa5",
   "metadata": {
    "hidden": true
   },
   "outputs": [
    {
     "data": {
      "text/latex": [
       "$\\displaystyle \\frac{\\sum_{i=j}^{k} {x}_{i}}{- j + k + 1}$"
      ],
      "text/plain": [
       "Sum(x[i], (i, j, k))/(-j + k + 1)"
      ]
     },
     "execution_count": 26,
     "metadata": {},
     "output_type": "execute_result"
    }
   ],
   "source": [
    "m_1 = (1/(k-j+1))*sym.Sum(x, (i,j,k))\n",
    "m_1"
   ]
  },
  {
   "cell_type": "code",
   "execution_count": 27,
   "id": "25626803",
   "metadata": {
    "hidden": true
   },
   "outputs": [
    {
     "data": {
      "text/latex": [
       "$\\displaystyle \\log{\\left(\\frac{s_{0}}{s_{1}} \\right)} + \\sum_{i=j}^{k} \\left(- \\frac{\\left(- m_{1} + {x}_{i}\\right)^{2}}{2 s_{1}^{2}} + \\frac{\\left(- m_{0} + {x}_{i}\\right)^{2}}{2 s_{0}^{2}}\\right)$"
      ],
      "text/plain": [
       "log(s0/s1) + Sum(-(-m1 + x[i])**2/(2*s1**2) + (-m0 + x[i])**2/(2*s0**2), (i, j, k))"
      ]
     },
     "execution_count": 27,
     "metadata": {},
     "output_type": "execute_result"
    }
   ],
   "source": [
    "s"
   ]
  },
  {
   "cell_type": "code",
   "execution_count": 30,
   "id": "6de1b461",
   "metadata": {
    "hidden": true
   },
   "outputs": [
    {
     "data": {
      "text/latex": [
       "$\\displaystyle \\log{\\left(\\frac{s_{0}}{\\sqrt{\\sum_{i=j}^{k} \\left({x}_{i}^{2} + \\frac{2 {x}_{i} \\sum_{i=j}^{k} {x}_{i}}{- j + k + 1}\\right) + \\frac{\\left(\\sum_{i=j}^{k} {x}_{i}\\right)^{2}}{- j + k + 1}}} \\right)} + \\sum_{i=j}^{k} \\left(- \\frac{\\left({x}_{i} - \\frac{\\sum_{i=j}^{k} {x}_{i}}{- j + k + 1}\\right)^{2}}{2 \\left(\\sum_{i=j}^{k} \\left({x}_{i}^{2} + \\frac{2 {x}_{i} \\sum_{i=j}^{k} {x}_{i}}{- j + k + 1}\\right) + \\frac{\\left(\\sum_{i=j}^{k} {x}_{i}\\right)^{2}}{- j + k + 1}\\right)} + \\frac{\\left(- m_{0} + {x}_{i}\\right)^{2}}{2 s_{0}^{2}}\\right)$"
      ],
      "text/plain": [
       "log(s0/sqrt(Sum(x[i]**2 + 2*x[i]*Sum(x[i], (i, j, k))/(-j + k + 1), (i, j, k)) + Sum(x[i], (i, j, k))**2/(-j + k + 1))) + Sum(-(x[i] - Sum(x[i], (i, j, k))/(-j + k + 1))**2/(2*(Sum(x[i]**2 + 2*x[i]*Sum(x[i], (i, j, k))/(-j + k + 1), (i, j, k)) + Sum(x[i], (i, j, k))**2/(-j + k + 1))) + (-m0 + x[i])**2/(2*s0**2), (i, j, k))"
      ]
     },
     "execution_count": 30,
     "metadata": {},
     "output_type": "execute_result"
    }
   ],
   "source": [
    "s.subs({m1:m_1, s1:s_1.subs({m1:m_1})})"
   ]
  },
  {
   "cell_type": "code",
   "execution_count": null,
   "id": "88a49890",
   "metadata": {
    "hidden": true
   },
   "outputs": [],
   "source": []
  },
  {
   "cell_type": "markdown",
   "id": "b9bb0e6d",
   "metadata": {
    "heading_collapsed": true
   },
   "source": [
    "# Logistic distribution"
   ]
  },
  {
   "cell_type": "code",
   "execution_count": null,
   "id": "5390234f",
   "metadata": {
    "hidden": true
   },
   "outputs": [],
   "source": [
    "i,j = sym.symbols('i j', cls=sym.Idx)"
   ]
  },
  {
   "cell_type": "markdown",
   "id": "cdf57172",
   "metadata": {
    "hidden": true
   },
   "source": [
    "## p.d.f."
   ]
  },
  {
   "cell_type": "code",
   "execution_count": 12,
   "id": "548a4fd7",
   "metadata": {
    "hidden": true
   },
   "outputs": [
    {
     "data": {
      "text/latex": [
       "$\\displaystyle \\frac{e^{- \\frac{- loc + {y}_{i}}{scale}}}{\\left(1 + e^{- \\frac{- loc + {y}_{i}}{scale}}\\right)^{2}}$"
      ],
      "text/plain": [
       "exp(-(-loc + y[i])/scale)/(1 + exp(-(-loc + y[i])/scale))**2"
      ]
     },
     "execution_count": 12,
     "metadata": {},
     "output_type": "execute_result"
    }
   ],
   "source": [
    "logistic_pdf = sym.exp(-x)/(1+sym.exp(-x))**2\n",
    "logistic_pdf = logistic_pdf.subs(x, (y-loc)/scale)\n",
    "logistic_pdf"
   ]
  },
  {
   "cell_type": "code",
   "execution_count": 13,
   "id": "eb97e5e0",
   "metadata": {
    "hidden": true
   },
   "outputs": [
    {
     "data": {
      "text/latex": [
       "$\\displaystyle \\log{\\left(\\frac{e^{- \\frac{- loc + {y}_{i}}{scale}}}{\\left(1 + e^{- \\frac{- loc + {y}_{i}}{scale}}\\right)^{2}} \\right)}$"
      ],
      "text/plain": [
       "log(exp(-(-loc + y[i])/scale)/(1 + exp(-(-loc + y[i])/scale))**2)"
      ]
     },
     "execution_count": 13,
     "metadata": {},
     "output_type": "execute_result"
    }
   ],
   "source": [
    "loglogistic_pdf = sym.log(logistic_pdf)\n",
    "loglogistic_pdf"
   ]
  },
  {
   "cell_type": "code",
   "execution_count": 15,
   "id": "43e6fe65",
   "metadata": {
    "hidden": true
   },
   "outputs": [
    {
     "data": {
      "text/latex": [
       "$\\displaystyle \\sum_{i=1}^{n} \\log{\\left(\\frac{e^{\\frac{loc}{scale}}}{e^{\\frac{2 loc}{scale}} e^{- \\frac{{y}_{i}}{scale}} + 2 e^{\\frac{loc}{scale}} + e^{\\frac{{y}_{i}}{scale}}} \\right)}$"
      ],
      "text/plain": [
       "Sum(log(exp(loc/scale)/(exp(2*loc/scale)*exp(-y[i]/scale) + 2*exp(loc/scale) + exp(y[i]/scale))), (i, 1, n))"
      ]
     },
     "execution_count": 15,
     "metadata": {},
     "output_type": "execute_result"
    }
   ],
   "source": [
    "f = sym.Sum( loglogistic_pdf, (i, 1, n) )\n",
    "sym.simplify(f)"
   ]
  },
  {
   "cell_type": "code",
   "execution_count": 18,
   "id": "707b85db",
   "metadata": {
    "hidden": true
   },
   "outputs": [
    {
     "data": {
      "text/latex": [
       "$\\displaystyle \\frac{\\sum_{i=1}^{n} \\frac{- e^{\\frac{loc}{scale}} + e^{\\frac{{y}_{i}}{scale}}}{e^{\\frac{loc}{scale}} + e^{\\frac{{y}_{i}}{scale}}}}{scale}$"
      ],
      "text/plain": [
       "Sum((-exp(loc/scale) + exp(y[i]/scale))/(exp(loc/scale) + exp(y[i]/scale)), (i, 1, n))/scale"
      ]
     },
     "execution_count": 18,
     "metadata": {},
     "output_type": "execute_result"
    }
   ],
   "source": [
    "df_dloc = sym.simplify(sym.diff(f, loc))\n",
    "sym.simplify(df_dloc)"
   ]
  },
  {
   "cell_type": "code",
   "execution_count": 19,
   "id": "f90eb2ed",
   "metadata": {
    "hidden": true
   },
   "outputs": [
    {
     "data": {
      "text/latex": [
       "$\\displaystyle \\frac{\\sum_{i=1}^{n} \\frac{loc e^{\\frac{loc}{scale}} - loc e^{\\frac{{y}_{i}}{scale}} - e^{\\frac{loc}{scale}} {y}_{i} + e^{\\frac{{y}_{i}}{scale}} {y}_{i}}{e^{\\frac{loc}{scale}} + e^{\\frac{{y}_{i}}{scale}}}}{scale^{2}}$"
      ],
      "text/plain": [
       "Sum((loc*exp(loc/scale) - loc*exp(y[i]/scale) - exp(loc/scale)*y[i] + exp(y[i]/scale)*y[i])/(exp(loc/scale) + exp(y[i]/scale)), (i, 1, n))/scale**2"
      ]
     },
     "execution_count": 19,
     "metadata": {},
     "output_type": "execute_result"
    }
   ],
   "source": [
    "df_dscale = sym.simplify(sym.diff(f, scale))\n",
    "sym.simplify(df_dscale)"
   ]
  },
  {
   "cell_type": "code",
   "execution_count": 22,
   "id": "08fc021a",
   "metadata": {
    "hidden": true
   },
   "outputs": [
    {
     "data": {
      "text/plain": [
       "[]"
      ]
     },
     "execution_count": 22,
     "metadata": {},
     "output_type": "execute_result"
    }
   ],
   "source": [
    "loc_hat = sym.solve(df_dloc, loc)\n",
    "loc_hat"
   ]
  },
  {
   "cell_type": "code",
   "execution_count": 23,
   "id": "ab0e3dda",
   "metadata": {
    "hidden": true
   },
   "outputs": [
    {
     "data": {
      "text/plain": [
       "[]"
      ]
     },
     "execution_count": 23,
     "metadata": {},
     "output_type": "execute_result"
    }
   ],
   "source": [
    "scale_hat = sym.solve(df_dscale, scale)\n",
    "scale_hat"
   ]
  },
  {
   "cell_type": "code",
   "execution_count": null,
   "id": "15843d03",
   "metadata": {
    "hidden": true
   },
   "outputs": [],
   "source": []
  },
  {
   "cell_type": "markdown",
   "id": "2334ee4e",
   "metadata": {
    "heading_collapsed": true
   },
   "source": [
    "# Burr III distribution"
   ]
  },
  {
   "cell_type": "code",
   "execution_count": 29,
   "id": "b2ce52a6",
   "metadata": {
    "hidden": true
   },
   "outputs": [],
   "source": [
    "k = sym.symbols('k', real=True)"
   ]
  },
  {
   "cell_type": "markdown",
   "id": "a0d234bd",
   "metadata": {
    "heading_collapsed": true,
    "hidden": true
   },
   "source": [
    "## Probability Density Function"
   ]
  },
  {
   "cell_type": "code",
   "execution_count": 133,
   "id": "502f4500",
   "metadata": {
    "hidden": true
   },
   "outputs": [
    {
     "data": {
      "text/latex": [
       "$\\displaystyle c d \\left(1 + {x}_{i}^{- c}\\right)^{- d - 1} {x}_{i}^{- c - 1}$"
      ],
      "text/plain": [
       "c*d*(1 + x[i]**(-c))**(-d - 1)*x[i]**(-c - 1)"
      ]
     },
     "execution_count": 133,
     "metadata": {},
     "output_type": "execute_result"
    }
   ],
   "source": [
    "burr_pdf = (c*d*x**(-c-1))/((1 + x**(-c))**(d+1))\n",
    "burr_pdf"
   ]
  },
  {
   "cell_type": "code",
   "execution_count": 134,
   "id": "752a36cc",
   "metadata": {
    "hidden": true
   },
   "outputs": [],
   "source": [
    "# burr_pdf_ = burr_pdf.subs(x, (y-loc)/scale)\n",
    "# burr_pdf_"
   ]
  },
  {
   "cell_type": "code",
   "execution_count": 135,
   "id": "091331f9",
   "metadata": {
    "hidden": true
   },
   "outputs": [
    {
     "data": {
      "text/latex": [
       "$\\displaystyle \\log{\\left(c d \\left(1 + {x}_{i}^{- c}\\right)^{- d - 1} {x}_{i}^{- c - 1} \\right)}$"
      ],
      "text/plain": [
       "log(c*d*(1 + x[i]**(-c))**(-d - 1)*x[i]**(-c - 1))"
      ]
     },
     "execution_count": 135,
     "metadata": {},
     "output_type": "execute_result"
    }
   ],
   "source": [
    "log_burr_pdf = sym.log(burr_pdf)\n",
    "log_burr_pdf"
   ]
  },
  {
   "cell_type": "code",
   "execution_count": 136,
   "id": "33deb089",
   "metadata": {
    "hidden": true
   },
   "outputs": [],
   "source": [
    "# log_burr_pdf_ = log_burr_pdf.subs(x, (y-loc)/scale)\n",
    "# log_burr_pdf_"
   ]
  },
  {
   "cell_type": "markdown",
   "id": "a0a4664d",
   "metadata": {
    "heading_collapsed": true,
    "hidden": true
   },
   "source": [
    "## Cummulative Density Function"
   ]
  },
  {
   "cell_type": "code",
   "execution_count": 137,
   "id": "b031b748",
   "metadata": {
    "hidden": true,
    "scrolled": true
   },
   "outputs": [
    {
     "data": {
      "text/latex": [
       "$\\displaystyle \\left(1 + {x}_{i}^{- c}\\right)^{- k}$"
      ],
      "text/plain": [
       "(1 + x[i]**(-c))**(-k)"
      ]
     },
     "execution_count": 137,
     "metadata": {},
     "output_type": "execute_result"
    }
   ],
   "source": [
    "burr_cdf = (1+x**(-c))**(-k)\n",
    "burr_cdf"
   ]
  },
  {
   "cell_type": "markdown",
   "id": "09540b68",
   "metadata": {
    "heading_collapsed": true,
    "hidden": true
   },
   "source": [
    "## log-likelihood - MLE"
   ]
  },
  {
   "cell_type": "code",
   "execution_count": 138,
   "id": "a3043684",
   "metadata": {
    "hidden": true
   },
   "outputs": [
    {
     "data": {
      "text/latex": [
       "$\\displaystyle \\left(\\log{\\left(c \\right)} + \\log{\\left(d \\right)}\\right) \\sum_{i=1}^{n} 1 + \\sum_{i=1}^{n} \\log{\\left(\\frac{\\left(1 + {x}_{i}^{- c}\\right)^{- d}}{\\left({x}_{i}^{c} + 1\\right) {x}_{i}} \\right)}$"
      ],
      "text/plain": [
       "(log(c) + log(d))*Sum(1, (i, 1, n)) + Sum(log(1/((1 + x[i]**(-c))**d*(x[i]**c + 1)*x[i])), (i, 1, n))"
      ]
     },
     "execution_count": 138,
     "metadata": {},
     "output_type": "execute_result"
    }
   ],
   "source": [
    "g = sym.Sum( log_burr_pdf, (i, 1, n) )\n",
    "sym.simplify(g)"
   ]
  },
  {
   "cell_type": "code",
   "execution_count": 139,
   "id": "27bddd18",
   "metadata": {
    "hidden": true
   },
   "outputs": [
    {
     "data": {
      "text/latex": [
       "$\\displaystyle n \\log{\\left(c \\right)} + n \\log{\\left(d \\right)} + \\sum_{i=1}^{n} \\left(\\log{\\left(\\left(1 + {x}_{i}^{- c}\\right)^{- d - 1} \\right)} + \\log{\\left({x}_{i}^{- c - 1} \\right)}\\right)$"
      ],
      "text/plain": [
       "n*log(c) + n*log(d) + Sum(log((1 + x[i]**(-c))**(-d - 1)) + log(x[i]**(-c - 1)), (i, 1, n))"
      ]
     },
     "execution_count": 139,
     "metadata": {},
     "output_type": "execute_result"
    }
   ],
   "source": [
    "f1 = sym.Sum( sym.log(x**(-c-1)), (i, 1, n) )\n",
    "f2 = sym.Sum( sym.log( c*d*(1 + x**(-c))**(-d-1)), (i, 1, n) )\n",
    "\n",
    "# we must find the parameters c, d under which this term becomes 0\n",
    "f = f1 + f2\n",
    "sym.simplify(f)"
   ]
  },
  {
   "cell_type": "code",
   "execution_count": 140,
   "id": "8e6c12ae",
   "metadata": {
    "hidden": true
   },
   "outputs": [
    {
     "data": {
      "text/latex": [
       "$\\displaystyle \\sum_{i=1}^{n} \\left(\\frac{d \\log{\\left({x}_{i} \\right)}}{{x}_{i}^{c} + 1} - \\log{\\left({x}_{i} \\right)} + \\frac{\\log{\\left({x}_{i} \\right)}}{{x}_{i}^{c} + 1} + \\frac{{x}_{i}^{c}}{c \\left({x}_{i}^{c} + 1\\right)} + \\frac{1}{c \\left({x}_{i}^{c} + 1\\right)}\\right)$"
      ],
      "text/plain": [
       "Sum(d*log(x[i])/(x[i]**c + 1) - log(x[i]) + log(x[i])/(x[i]**c + 1) + x[i]**c/(c*(x[i]**c + 1)) + 1/(c*(x[i]**c + 1)), (i, 1, n))"
      ]
     },
     "execution_count": 140,
     "metadata": {},
     "output_type": "execute_result"
    }
   ],
   "source": [
    "df_dc = sym.simplify(sym.diff(f, c))\n",
    "sym.simplify(df_dc)"
   ]
  },
  {
   "cell_type": "code",
   "execution_count": 141,
   "id": "2de7a48f",
   "metadata": {
    "hidden": true
   },
   "outputs": [
    {
     "data": {
      "text/latex": [
       "$\\displaystyle - \\sum_{i=1}^{n} \\log{\\left(1 + {x}_{i}^{- c} \\right)} + \\frac{n}{d}$"
      ],
      "text/plain": [
       "-Sum(log(1 + x[i]**(-c)), (i, 1, n)) + n/d"
      ]
     },
     "execution_count": 141,
     "metadata": {},
     "output_type": "execute_result"
    }
   ],
   "source": [
    "df_dd = sym.simplify(sym.diff(f, d))\n",
    "sym.simplify(df_dd)"
   ]
  },
  {
   "cell_type": "code",
   "execution_count": 142,
   "id": "ac74d3f4",
   "metadata": {
    "hidden": true
   },
   "outputs": [],
   "source": [
    "# df_dloc = sym.simplify(sym.diff(g, loc))\n",
    "# sym.simplify(df_dloc)"
   ]
  },
  {
   "cell_type": "code",
   "execution_count": 143,
   "id": "8aab1ab3",
   "metadata": {
    "hidden": true
   },
   "outputs": [],
   "source": [
    "# df_dscale = sym.simplify(sym.diff(g, scale))\n",
    "# sym.simplify(df_dscale)"
   ]
  },
  {
   "cell_type": "markdown",
   "id": "31b66388",
   "metadata": {
    "heading_collapsed": true,
    "hidden": true
   },
   "source": [
    "## Calculate c_hat, d_hat"
   ]
  },
  {
   "cell_type": "markdown",
   "id": "eb152608",
   "metadata": {
    "heading_collapsed": true,
    "hidden": true
   },
   "source": [
    "### Calculate d_hat (d that minimized the partial derivative of the likelihood function)"
   ]
  },
  {
   "cell_type": "code",
   "execution_count": 144,
   "id": "11e7f5fc",
   "metadata": {
    "hidden": true
   },
   "outputs": [
    {
     "data": {
      "text/latex": [
       "$\\displaystyle \\frac{n}{\\sum_{i=1}^{n} \\log{\\left(1 + {x}_{i}^{- c} \\right)}}$"
      ],
      "text/plain": [
       "n/Sum(log(1 + x[i]**(-c)), (i, 1, n))"
      ]
     },
     "execution_count": 144,
     "metadata": {},
     "output_type": "execute_result"
    }
   ],
   "source": [
    "d_hat = sym.solve(df_dd, d)\n",
    "sym.simplify(d_hat[0])"
   ]
  },
  {
   "cell_type": "code",
   "execution_count": 145,
   "id": "27505d37",
   "metadata": {
    "hidden": true
   },
   "outputs": [],
   "source": [
    "def find_d(x, c):\n",
    "    num = len(x)\n",
    "    temp = x**(-c)\n",
    "    denom = sum(np.log(1+temp))\n",
    "    \n",
    "    return num/denom"
   ]
  },
  {
   "cell_type": "markdown",
   "id": "7541ab41",
   "metadata": {
    "heading_collapsed": true,
    "hidden": true
   },
   "source": [
    "### Calculate c_hat (c that minimized the partial derivative of the likelihood function)"
   ]
  },
  {
   "cell_type": "code",
   "execution_count": 146,
   "id": "086ad17f",
   "metadata": {
    "hidden": true
   },
   "outputs": [
    {
     "data": {
      "text/latex": [
       "$\\displaystyle \\sum_{i=1}^{n} \\left(\\frac{n \\log{\\left({x}_{i} \\right)}}{\\left({x}_{i}^{c} + 1\\right) \\sum_{i=1}^{n} \\log{\\left(1 + {x}_{i}^{- c} \\right)}} - \\log{\\left({x}_{i} \\right)} + \\frac{\\log{\\left({x}_{i} \\right)}}{{x}_{i}^{c} + 1} + \\frac{{x}_{i}^{c}}{c \\left({x}_{i}^{c} + 1\\right)} + \\frac{1}{c \\left({x}_{i}^{c} + 1\\right)}\\right)$"
      ],
      "text/plain": [
       "Sum(n*log(x[i])/((x[i]**c + 1)*Sum(log(1 + x[i]**(-c)), (i, 1, n))) - log(x[i]) + log(x[i])/(x[i]**c + 1) + x[i]**c/(c*(x[i]**c + 1)) + 1/(c*(x[i]**c + 1)), (i, 1, n))"
      ]
     },
     "execution_count": 146,
     "metadata": {},
     "output_type": "execute_result"
    }
   ],
   "source": [
    "df_dc = df_dc.subs(d, d_hat[0])\n",
    "df_dc"
   ]
  },
  {
   "cell_type": "code",
   "execution_count": 147,
   "id": "47a6f9e6",
   "metadata": {
    "hidden": true
   },
   "outputs": [
    {
     "data": {
      "text/plain": [
       "[]"
      ]
     },
     "execution_count": 147,
     "metadata": {},
     "output_type": "execute_result"
    }
   ],
   "source": [
    "c_hat = sym.solve(df_dc, c)\n",
    "c_hat"
   ]
  },
  {
   "cell_type": "markdown",
   "id": "24853016",
   "metadata": {
    "heading_collapsed": true,
    "hidden": true
   },
   "source": [
    "### Calculate the second derivative w.r.t. c"
   ]
  },
  {
   "cell_type": "code",
   "execution_count": 150,
   "id": "71a49a21",
   "metadata": {
    "hidden": true
   },
   "outputs": [
    {
     "data": {
      "text/latex": [
       "$\\displaystyle \\sum_{i=1}^{n} \\left(- \\frac{d \\log{\\left({x}_{i} \\right)}^{2} {x}_{i}^{c}}{{x}_{i}^{2 c} + 2 {x}_{i}^{c} + 1} - \\frac{\\log{\\left({x}_{i} \\right)}^{2} {x}_{i}^{c}}{{x}_{i}^{2 c} + 2 {x}_{i}^{c} + 1} - \\frac{\\log{\\left({x}_{i} \\right)} {x}_{i}^{2 c}}{c \\left({x}_{i}^{2 c} + 2 {x}_{i}^{c} + 1\\right)} - \\frac{\\log{\\left({x}_{i} \\right)} {x}_{i}^{c}}{c \\left({x}_{i}^{2 c} + 2 {x}_{i}^{c} + 1\\right)} + \\frac{\\log{\\left({x}_{i} \\right)} {x}_{i}^{c}}{c \\left({x}_{i}^{c} + 1\\right)} - \\frac{{x}_{i}^{c}}{c^{2} \\left({x}_{i}^{c} + 1\\right)} - \\frac{1}{c^{2} \\left({x}_{i}^{c} + 1\\right)}\\right)$"
      ],
      "text/plain": [
       "Sum(-d*log(x[i])**2*x[i]**c/(x[i]**(2*c) + 2*x[i]**c + 1) - log(x[i])**2*x[i]**c/(x[i]**(2*c) + 2*x[i]**c + 1) - log(x[i])*x[i]**(2*c)/(c*(x[i]**(2*c) + 2*x[i]**c + 1)) - log(x[i])*x[i]**c/(c*(x[i]**(2*c) + 2*x[i]**c + 1)) + log(x[i])*x[i]**c/(c*(x[i]**c + 1)) - x[i]**c/(c**2*(x[i]**c + 1)) - 1/(c**2*(x[i]**c + 1)), (i, 1, n))"
      ]
     },
     "execution_count": 150,
     "metadata": {},
     "output_type": "execute_result"
    }
   ],
   "source": [
    "der1 = sym.simplify(sym.diff(f, c))\n",
    "der2 = sym.simplify(sym.diff(der1, c))\n",
    "der2"
   ]
  },
  {
   "cell_type": "code",
   "execution_count": null,
   "id": "446d2a90",
   "metadata": {
    "hidden": true
   },
   "outputs": [],
   "source": []
  },
  {
   "cell_type": "markdown",
   "id": "0fa58274",
   "metadata": {
    "heading_collapsed": true,
    "hidden": true
   },
   "source": [
    "### Calculate loc_hat"
   ]
  },
  {
   "cell_type": "code",
   "execution_count": null,
   "id": "68a6e8d2",
   "metadata": {
    "hidden": true
   },
   "outputs": [],
   "source": [
    "loc_hat = sym.solve(df_dloc, loc)\n",
    "loc_hat"
   ]
  },
  {
   "cell_type": "markdown",
   "id": "fc69c710",
   "metadata": {
    "heading_collapsed": true,
    "hidden": true
   },
   "source": [
    "### Calculate scale_hat"
   ]
  },
  {
   "cell_type": "code",
   "execution_count": null,
   "id": "06d7c230",
   "metadata": {
    "hidden": true
   },
   "outputs": [],
   "source": [
    "scale_hat = sym.solve(df_dscale, scale)\n",
    "scale_hat"
   ]
  },
  {
   "cell_type": "code",
   "execution_count": null,
   "id": "c37138a6",
   "metadata": {
    "hidden": true
   },
   "outputs": [],
   "source": []
  },
  {
   "cell_type": "markdown",
   "id": "e2e86d49",
   "metadata": {
    "heading_collapsed": true,
    "hidden": true
   },
   "source": [
    "### Calculate c_hat numerically (find c that makes the term go to 0)\n",
    "\n",
    "Note: \n",
    "- x is the velocity residuals\n",
    "- n is the number of the velocity residuals"
   ]
  },
  {
   "cell_type": "code",
   "execution_count": 112,
   "id": "f11318c1",
   "metadata": {
    "hidden": true
   },
   "outputs": [],
   "source": [
    "# the parameters of the burr distribution that fit our dataset\n",
    "c_, d_, loc_, scale_ = 28.51108566150959, 0.9276442055923431, -1.53901917509511, 1.5508359728684877"
   ]
  },
  {
   "cell_type": "code",
   "execution_count": 113,
   "id": "691becb6",
   "metadata": {
    "hidden": true
   },
   "outputs": [],
   "source": [
    "vel_resids = np.array([(x_-loc_)/scale_ for x_ in vel_resid])"
   ]
  },
  {
   "cell_type": "code",
   "execution_count": 114,
   "id": "e0fc60a3",
   "metadata": {
    "hidden": true
   },
   "outputs": [],
   "source": [
    "def min_f(x, c):\n",
    "    n = len(x)\n",
    "\n",
    "    t1 = sum(np.log(1+x**(-c)))\n",
    "    t2 = x**c+1 \n",
    "    \n",
    "    term1 = sum((n*np.log(x))/(t2*t1))\n",
    "    \n",
    "    term2 = sum(np.log(x))\n",
    "    \n",
    "    term3 = sum(np.log(x)/t2)\n",
    "    \n",
    "    term4 = sum(x**c/(c*t2))\n",
    "    \n",
    "    term5 = sum(1/(c*t2))\n",
    "    \n",
    "    return term1 - term2 + term3 + term4 + term5"
   ]
  },
  {
   "cell_type": "code",
   "execution_count": 115,
   "id": "ba466733",
   "metadata": {
    "hidden": true
   },
   "outputs": [],
   "source": [
    "c_range = np.linspace(28.414, 28.416, 100)\n",
    "f_values = []\n",
    "for c_ in c_range:\n",
    "    f = min_f(vel_resids, c_)\n",
    "    \n",
    "    f_values.append(f)"
   ]
  },
  {
   "cell_type": "code",
   "execution_count": 116,
   "id": "67d23cdc",
   "metadata": {
    "hidden": true
   },
   "outputs": [
    {
     "data": {
      "application/javascript": [
       "/* Put everything inside the global mpl namespace */\n",
       "/* global mpl */\n",
       "window.mpl = {};\n",
       "\n",
       "mpl.get_websocket_type = function () {\n",
       "    if (typeof WebSocket !== 'undefined') {\n",
       "        return WebSocket;\n",
       "    } else if (typeof MozWebSocket !== 'undefined') {\n",
       "        return MozWebSocket;\n",
       "    } else {\n",
       "        alert(\n",
       "            'Your browser does not have WebSocket support. ' +\n",
       "                'Please try Chrome, Safari or Firefox ≥ 6. ' +\n",
       "                'Firefox 4 and 5 are also supported but you ' +\n",
       "                'have to enable WebSockets in about:config.'\n",
       "        );\n",
       "    }\n",
       "};\n",
       "\n",
       "mpl.figure = function (figure_id, websocket, ondownload, parent_element) {\n",
       "    this.id = figure_id;\n",
       "\n",
       "    this.ws = websocket;\n",
       "\n",
       "    this.supports_binary = this.ws.binaryType !== undefined;\n",
       "\n",
       "    if (!this.supports_binary) {\n",
       "        var warnings = document.getElementById('mpl-warnings');\n",
       "        if (warnings) {\n",
       "            warnings.style.display = 'block';\n",
       "            warnings.textContent =\n",
       "                'This browser does not support binary websocket messages. ' +\n",
       "                'Performance may be slow.';\n",
       "        }\n",
       "    }\n",
       "\n",
       "    this.imageObj = new Image();\n",
       "\n",
       "    this.context = undefined;\n",
       "    this.message = undefined;\n",
       "    this.canvas = undefined;\n",
       "    this.rubberband_canvas = undefined;\n",
       "    this.rubberband_context = undefined;\n",
       "    this.format_dropdown = undefined;\n",
       "\n",
       "    this.image_mode = 'full';\n",
       "\n",
       "    this.root = document.createElement('div');\n",
       "    this.root.setAttribute('style', 'display: inline-block');\n",
       "    this._root_extra_style(this.root);\n",
       "\n",
       "    parent_element.appendChild(this.root);\n",
       "\n",
       "    this._init_header(this);\n",
       "    this._init_canvas(this);\n",
       "    this._init_toolbar(this);\n",
       "\n",
       "    var fig = this;\n",
       "\n",
       "    this.waiting = false;\n",
       "\n",
       "    this.ws.onopen = function () {\n",
       "        fig.send_message('supports_binary', { value: fig.supports_binary });\n",
       "        fig.send_message('send_image_mode', {});\n",
       "        if (fig.ratio !== 1) {\n",
       "            fig.send_message('set_device_pixel_ratio', {\n",
       "                device_pixel_ratio: fig.ratio,\n",
       "            });\n",
       "        }\n",
       "        fig.send_message('refresh', {});\n",
       "    };\n",
       "\n",
       "    this.imageObj.onload = function () {\n",
       "        if (fig.image_mode === 'full') {\n",
       "            // Full images could contain transparency (where diff images\n",
       "            // almost always do), so we need to clear the canvas so that\n",
       "            // there is no ghosting.\n",
       "            fig.context.clearRect(0, 0, fig.canvas.width, fig.canvas.height);\n",
       "        }\n",
       "        fig.context.drawImage(fig.imageObj, 0, 0);\n",
       "    };\n",
       "\n",
       "    this.imageObj.onunload = function () {\n",
       "        fig.ws.close();\n",
       "    };\n",
       "\n",
       "    this.ws.onmessage = this._make_on_message_function(this);\n",
       "\n",
       "    this.ondownload = ondownload;\n",
       "};\n",
       "\n",
       "mpl.figure.prototype._init_header = function () {\n",
       "    var titlebar = document.createElement('div');\n",
       "    titlebar.classList =\n",
       "        'ui-dialog-titlebar ui-widget-header ui-corner-all ui-helper-clearfix';\n",
       "    var titletext = document.createElement('div');\n",
       "    titletext.classList = 'ui-dialog-title';\n",
       "    titletext.setAttribute(\n",
       "        'style',\n",
       "        'width: 100%; text-align: center; padding: 3px;'\n",
       "    );\n",
       "    titlebar.appendChild(titletext);\n",
       "    this.root.appendChild(titlebar);\n",
       "    this.header = titletext;\n",
       "};\n",
       "\n",
       "mpl.figure.prototype._canvas_extra_style = function (_canvas_div) {};\n",
       "\n",
       "mpl.figure.prototype._root_extra_style = function (_canvas_div) {};\n",
       "\n",
       "mpl.figure.prototype._init_canvas = function () {\n",
       "    var fig = this;\n",
       "\n",
       "    var canvas_div = (this.canvas_div = document.createElement('div'));\n",
       "    canvas_div.setAttribute(\n",
       "        'style',\n",
       "        'border: 1px solid #ddd;' +\n",
       "            'box-sizing: content-box;' +\n",
       "            'clear: both;' +\n",
       "            'min-height: 1px;' +\n",
       "            'min-width: 1px;' +\n",
       "            'outline: 0;' +\n",
       "            'overflow: hidden;' +\n",
       "            'position: relative;' +\n",
       "            'resize: both;'\n",
       "    );\n",
       "\n",
       "    function on_keyboard_event_closure(name) {\n",
       "        return function (event) {\n",
       "            return fig.key_event(event, name);\n",
       "        };\n",
       "    }\n",
       "\n",
       "    canvas_div.addEventListener(\n",
       "        'keydown',\n",
       "        on_keyboard_event_closure('key_press')\n",
       "    );\n",
       "    canvas_div.addEventListener(\n",
       "        'keyup',\n",
       "        on_keyboard_event_closure('key_release')\n",
       "    );\n",
       "\n",
       "    this._canvas_extra_style(canvas_div);\n",
       "    this.root.appendChild(canvas_div);\n",
       "\n",
       "    var canvas = (this.canvas = document.createElement('canvas'));\n",
       "    canvas.classList.add('mpl-canvas');\n",
       "    canvas.setAttribute('style', 'box-sizing: content-box;');\n",
       "\n",
       "    this.context = canvas.getContext('2d');\n",
       "\n",
       "    var backingStore =\n",
       "        this.context.backingStorePixelRatio ||\n",
       "        this.context.webkitBackingStorePixelRatio ||\n",
       "        this.context.mozBackingStorePixelRatio ||\n",
       "        this.context.msBackingStorePixelRatio ||\n",
       "        this.context.oBackingStorePixelRatio ||\n",
       "        this.context.backingStorePixelRatio ||\n",
       "        1;\n",
       "\n",
       "    this.ratio = (window.devicePixelRatio || 1) / backingStore;\n",
       "\n",
       "    var rubberband_canvas = (this.rubberband_canvas = document.createElement(\n",
       "        'canvas'\n",
       "    ));\n",
       "    rubberband_canvas.setAttribute(\n",
       "        'style',\n",
       "        'box-sizing: content-box; position: absolute; left: 0; top: 0; z-index: 1;'\n",
       "    );\n",
       "\n",
       "    // Apply a ponyfill if ResizeObserver is not implemented by browser.\n",
       "    if (this.ResizeObserver === undefined) {\n",
       "        if (window.ResizeObserver !== undefined) {\n",
       "            this.ResizeObserver = window.ResizeObserver;\n",
       "        } else {\n",
       "            var obs = _JSXTOOLS_RESIZE_OBSERVER({});\n",
       "            this.ResizeObserver = obs.ResizeObserver;\n",
       "        }\n",
       "    }\n",
       "\n",
       "    this.resizeObserverInstance = new this.ResizeObserver(function (entries) {\n",
       "        var nentries = entries.length;\n",
       "        for (var i = 0; i < nentries; i++) {\n",
       "            var entry = entries[i];\n",
       "            var width, height;\n",
       "            if (entry.contentBoxSize) {\n",
       "                if (entry.contentBoxSize instanceof Array) {\n",
       "                    // Chrome 84 implements new version of spec.\n",
       "                    width = entry.contentBoxSize[0].inlineSize;\n",
       "                    height = entry.contentBoxSize[0].blockSize;\n",
       "                } else {\n",
       "                    // Firefox implements old version of spec.\n",
       "                    width = entry.contentBoxSize.inlineSize;\n",
       "                    height = entry.contentBoxSize.blockSize;\n",
       "                }\n",
       "            } else {\n",
       "                // Chrome <84 implements even older version of spec.\n",
       "                width = entry.contentRect.width;\n",
       "                height = entry.contentRect.height;\n",
       "            }\n",
       "\n",
       "            // Keep the size of the canvas and rubber band canvas in sync with\n",
       "            // the canvas container.\n",
       "            if (entry.devicePixelContentBoxSize) {\n",
       "                // Chrome 84 implements new version of spec.\n",
       "                canvas.setAttribute(\n",
       "                    'width',\n",
       "                    entry.devicePixelContentBoxSize[0].inlineSize\n",
       "                );\n",
       "                canvas.setAttribute(\n",
       "                    'height',\n",
       "                    entry.devicePixelContentBoxSize[0].blockSize\n",
       "                );\n",
       "            } else {\n",
       "                canvas.setAttribute('width', width * fig.ratio);\n",
       "                canvas.setAttribute('height', height * fig.ratio);\n",
       "            }\n",
       "            canvas.setAttribute(\n",
       "                'style',\n",
       "                'width: ' + width + 'px; height: ' + height + 'px;'\n",
       "            );\n",
       "\n",
       "            rubberband_canvas.setAttribute('width', width);\n",
       "            rubberband_canvas.setAttribute('height', height);\n",
       "\n",
       "            // And update the size in Python. We ignore the initial 0/0 size\n",
       "            // that occurs as the element is placed into the DOM, which should\n",
       "            // otherwise not happen due to the minimum size styling.\n",
       "            if (fig.ws.readyState == 1 && width != 0 && height != 0) {\n",
       "                fig.request_resize(width, height);\n",
       "            }\n",
       "        }\n",
       "    });\n",
       "    this.resizeObserverInstance.observe(canvas_div);\n",
       "\n",
       "    function on_mouse_event_closure(name) {\n",
       "        return function (event) {\n",
       "            return fig.mouse_event(event, name);\n",
       "        };\n",
       "    }\n",
       "\n",
       "    rubberband_canvas.addEventListener(\n",
       "        'mousedown',\n",
       "        on_mouse_event_closure('button_press')\n",
       "    );\n",
       "    rubberband_canvas.addEventListener(\n",
       "        'mouseup',\n",
       "        on_mouse_event_closure('button_release')\n",
       "    );\n",
       "    rubberband_canvas.addEventListener(\n",
       "        'dblclick',\n",
       "        on_mouse_event_closure('dblclick')\n",
       "    );\n",
       "    // Throttle sequential mouse events to 1 every 20ms.\n",
       "    rubberband_canvas.addEventListener(\n",
       "        'mousemove',\n",
       "        on_mouse_event_closure('motion_notify')\n",
       "    );\n",
       "\n",
       "    rubberband_canvas.addEventListener(\n",
       "        'mouseenter',\n",
       "        on_mouse_event_closure('figure_enter')\n",
       "    );\n",
       "    rubberband_canvas.addEventListener(\n",
       "        'mouseleave',\n",
       "        on_mouse_event_closure('figure_leave')\n",
       "    );\n",
       "\n",
       "    canvas_div.addEventListener('wheel', function (event) {\n",
       "        if (event.deltaY < 0) {\n",
       "            event.step = 1;\n",
       "        } else {\n",
       "            event.step = -1;\n",
       "        }\n",
       "        on_mouse_event_closure('scroll')(event);\n",
       "    });\n",
       "\n",
       "    canvas_div.appendChild(canvas);\n",
       "    canvas_div.appendChild(rubberband_canvas);\n",
       "\n",
       "    this.rubberband_context = rubberband_canvas.getContext('2d');\n",
       "    this.rubberband_context.strokeStyle = '#000000';\n",
       "\n",
       "    this._resize_canvas = function (width, height, forward) {\n",
       "        if (forward) {\n",
       "            canvas_div.style.width = width + 'px';\n",
       "            canvas_div.style.height = height + 'px';\n",
       "        }\n",
       "    };\n",
       "\n",
       "    // Disable right mouse context menu.\n",
       "    this.rubberband_canvas.addEventListener('contextmenu', function (_e) {\n",
       "        event.preventDefault();\n",
       "        return false;\n",
       "    });\n",
       "\n",
       "    function set_focus() {\n",
       "        canvas.focus();\n",
       "        canvas_div.focus();\n",
       "    }\n",
       "\n",
       "    window.setTimeout(set_focus, 100);\n",
       "};\n",
       "\n",
       "mpl.figure.prototype._init_toolbar = function () {\n",
       "    var fig = this;\n",
       "\n",
       "    var toolbar = document.createElement('div');\n",
       "    toolbar.classList = 'mpl-toolbar';\n",
       "    this.root.appendChild(toolbar);\n",
       "\n",
       "    function on_click_closure(name) {\n",
       "        return function (_event) {\n",
       "            return fig.toolbar_button_onclick(name);\n",
       "        };\n",
       "    }\n",
       "\n",
       "    function on_mouseover_closure(tooltip) {\n",
       "        return function (event) {\n",
       "            if (!event.currentTarget.disabled) {\n",
       "                return fig.toolbar_button_onmouseover(tooltip);\n",
       "            }\n",
       "        };\n",
       "    }\n",
       "\n",
       "    fig.buttons = {};\n",
       "    var buttonGroup = document.createElement('div');\n",
       "    buttonGroup.classList = 'mpl-button-group';\n",
       "    for (var toolbar_ind in mpl.toolbar_items) {\n",
       "        var name = mpl.toolbar_items[toolbar_ind][0];\n",
       "        var tooltip = mpl.toolbar_items[toolbar_ind][1];\n",
       "        var image = mpl.toolbar_items[toolbar_ind][2];\n",
       "        var method_name = mpl.toolbar_items[toolbar_ind][3];\n",
       "\n",
       "        if (!name) {\n",
       "            /* Instead of a spacer, we start a new button group. */\n",
       "            if (buttonGroup.hasChildNodes()) {\n",
       "                toolbar.appendChild(buttonGroup);\n",
       "            }\n",
       "            buttonGroup = document.createElement('div');\n",
       "            buttonGroup.classList = 'mpl-button-group';\n",
       "            continue;\n",
       "        }\n",
       "\n",
       "        var button = (fig.buttons[name] = document.createElement('button'));\n",
       "        button.classList = 'mpl-widget';\n",
       "        button.setAttribute('role', 'button');\n",
       "        button.setAttribute('aria-disabled', 'false');\n",
       "        button.addEventListener('click', on_click_closure(method_name));\n",
       "        button.addEventListener('mouseover', on_mouseover_closure(tooltip));\n",
       "\n",
       "        var icon_img = document.createElement('img');\n",
       "        icon_img.src = '_images/' + image + '.png';\n",
       "        icon_img.srcset = '_images/' + image + '_large.png 2x';\n",
       "        icon_img.alt = tooltip;\n",
       "        button.appendChild(icon_img);\n",
       "\n",
       "        buttonGroup.appendChild(button);\n",
       "    }\n",
       "\n",
       "    if (buttonGroup.hasChildNodes()) {\n",
       "        toolbar.appendChild(buttonGroup);\n",
       "    }\n",
       "\n",
       "    var fmt_picker = document.createElement('select');\n",
       "    fmt_picker.classList = 'mpl-widget';\n",
       "    toolbar.appendChild(fmt_picker);\n",
       "    this.format_dropdown = fmt_picker;\n",
       "\n",
       "    for (var ind in mpl.extensions) {\n",
       "        var fmt = mpl.extensions[ind];\n",
       "        var option = document.createElement('option');\n",
       "        option.selected = fmt === mpl.default_extension;\n",
       "        option.innerHTML = fmt;\n",
       "        fmt_picker.appendChild(option);\n",
       "    }\n",
       "\n",
       "    var status_bar = document.createElement('span');\n",
       "    status_bar.classList = 'mpl-message';\n",
       "    toolbar.appendChild(status_bar);\n",
       "    this.message = status_bar;\n",
       "};\n",
       "\n",
       "mpl.figure.prototype.request_resize = function (x_pixels, y_pixels) {\n",
       "    // Request matplotlib to resize the figure. Matplotlib will then trigger a resize in the client,\n",
       "    // which will in turn request a refresh of the image.\n",
       "    this.send_message('resize', { width: x_pixels, height: y_pixels });\n",
       "};\n",
       "\n",
       "mpl.figure.prototype.send_message = function (type, properties) {\n",
       "    properties['type'] = type;\n",
       "    properties['figure_id'] = this.id;\n",
       "    this.ws.send(JSON.stringify(properties));\n",
       "};\n",
       "\n",
       "mpl.figure.prototype.send_draw_message = function () {\n",
       "    if (!this.waiting) {\n",
       "        this.waiting = true;\n",
       "        this.ws.send(JSON.stringify({ type: 'draw', figure_id: this.id }));\n",
       "    }\n",
       "};\n",
       "\n",
       "mpl.figure.prototype.handle_save = function (fig, _msg) {\n",
       "    var format_dropdown = fig.format_dropdown;\n",
       "    var format = format_dropdown.options[format_dropdown.selectedIndex].value;\n",
       "    fig.ondownload(fig, format);\n",
       "};\n",
       "\n",
       "mpl.figure.prototype.handle_resize = function (fig, msg) {\n",
       "    var size = msg['size'];\n",
       "    if (size[0] !== fig.canvas.width || size[1] !== fig.canvas.height) {\n",
       "        fig._resize_canvas(size[0], size[1], msg['forward']);\n",
       "        fig.send_message('refresh', {});\n",
       "    }\n",
       "};\n",
       "\n",
       "mpl.figure.prototype.handle_rubberband = function (fig, msg) {\n",
       "    var x0 = msg['x0'] / fig.ratio;\n",
       "    var y0 = (fig.canvas.height - msg['y0']) / fig.ratio;\n",
       "    var x1 = msg['x1'] / fig.ratio;\n",
       "    var y1 = (fig.canvas.height - msg['y1']) / fig.ratio;\n",
       "    x0 = Math.floor(x0) + 0.5;\n",
       "    y0 = Math.floor(y0) + 0.5;\n",
       "    x1 = Math.floor(x1) + 0.5;\n",
       "    y1 = Math.floor(y1) + 0.5;\n",
       "    var min_x = Math.min(x0, x1);\n",
       "    var min_y = Math.min(y0, y1);\n",
       "    var width = Math.abs(x1 - x0);\n",
       "    var height = Math.abs(y1 - y0);\n",
       "\n",
       "    fig.rubberband_context.clearRect(\n",
       "        0,\n",
       "        0,\n",
       "        fig.canvas.width / fig.ratio,\n",
       "        fig.canvas.height / fig.ratio\n",
       "    );\n",
       "\n",
       "    fig.rubberband_context.strokeRect(min_x, min_y, width, height);\n",
       "};\n",
       "\n",
       "mpl.figure.prototype.handle_figure_label = function (fig, msg) {\n",
       "    // Updates the figure title.\n",
       "    fig.header.textContent = msg['label'];\n",
       "};\n",
       "\n",
       "mpl.figure.prototype.handle_cursor = function (fig, msg) {\n",
       "    fig.rubberband_canvas.style.cursor = msg['cursor'];\n",
       "};\n",
       "\n",
       "mpl.figure.prototype.handle_message = function (fig, msg) {\n",
       "    fig.message.textContent = msg['message'];\n",
       "};\n",
       "\n",
       "mpl.figure.prototype.handle_draw = function (fig, _msg) {\n",
       "    // Request the server to send over a new figure.\n",
       "    fig.send_draw_message();\n",
       "};\n",
       "\n",
       "mpl.figure.prototype.handle_image_mode = function (fig, msg) {\n",
       "    fig.image_mode = msg['mode'];\n",
       "};\n",
       "\n",
       "mpl.figure.prototype.handle_history_buttons = function (fig, msg) {\n",
       "    for (var key in msg) {\n",
       "        if (!(key in fig.buttons)) {\n",
       "            continue;\n",
       "        }\n",
       "        fig.buttons[key].disabled = !msg[key];\n",
       "        fig.buttons[key].setAttribute('aria-disabled', !msg[key]);\n",
       "    }\n",
       "};\n",
       "\n",
       "mpl.figure.prototype.handle_navigate_mode = function (fig, msg) {\n",
       "    if (msg['mode'] === 'PAN') {\n",
       "        fig.buttons['Pan'].classList.add('active');\n",
       "        fig.buttons['Zoom'].classList.remove('active');\n",
       "    } else if (msg['mode'] === 'ZOOM') {\n",
       "        fig.buttons['Pan'].classList.remove('active');\n",
       "        fig.buttons['Zoom'].classList.add('active');\n",
       "    } else {\n",
       "        fig.buttons['Pan'].classList.remove('active');\n",
       "        fig.buttons['Zoom'].classList.remove('active');\n",
       "    }\n",
       "};\n",
       "\n",
       "mpl.figure.prototype.updated_canvas_event = function () {\n",
       "    // Called whenever the canvas gets updated.\n",
       "    this.send_message('ack', {});\n",
       "};\n",
       "\n",
       "// A function to construct a web socket function for onmessage handling.\n",
       "// Called in the figure constructor.\n",
       "mpl.figure.prototype._make_on_message_function = function (fig) {\n",
       "    return function socket_on_message(evt) {\n",
       "        if (evt.data instanceof Blob) {\n",
       "            var img = evt.data;\n",
       "            if (img.type !== 'image/png') {\n",
       "                /* FIXME: We get \"Resource interpreted as Image but\n",
       "                 * transferred with MIME type text/plain:\" errors on\n",
       "                 * Chrome.  But how to set the MIME type?  It doesn't seem\n",
       "                 * to be part of the websocket stream */\n",
       "                img.type = 'image/png';\n",
       "            }\n",
       "\n",
       "            /* Free the memory for the previous frames */\n",
       "            if (fig.imageObj.src) {\n",
       "                (window.URL || window.webkitURL).revokeObjectURL(\n",
       "                    fig.imageObj.src\n",
       "                );\n",
       "            }\n",
       "\n",
       "            fig.imageObj.src = (window.URL || window.webkitURL).createObjectURL(\n",
       "                img\n",
       "            );\n",
       "            fig.updated_canvas_event();\n",
       "            fig.waiting = false;\n",
       "            return;\n",
       "        } else if (\n",
       "            typeof evt.data === 'string' &&\n",
       "            evt.data.slice(0, 21) === 'data:image/png;base64'\n",
       "        ) {\n",
       "            fig.imageObj.src = evt.data;\n",
       "            fig.updated_canvas_event();\n",
       "            fig.waiting = false;\n",
       "            return;\n",
       "        }\n",
       "\n",
       "        var msg = JSON.parse(evt.data);\n",
       "        var msg_type = msg['type'];\n",
       "\n",
       "        // Call the  \"handle_{type}\" callback, which takes\n",
       "        // the figure and JSON message as its only arguments.\n",
       "        try {\n",
       "            var callback = fig['handle_' + msg_type];\n",
       "        } catch (e) {\n",
       "            console.log(\n",
       "                \"No handler for the '\" + msg_type + \"' message type: \",\n",
       "                msg\n",
       "            );\n",
       "            return;\n",
       "        }\n",
       "\n",
       "        if (callback) {\n",
       "            try {\n",
       "                // console.log(\"Handling '\" + msg_type + \"' message: \", msg);\n",
       "                callback(fig, msg);\n",
       "            } catch (e) {\n",
       "                console.log(\n",
       "                    \"Exception inside the 'handler_\" + msg_type + \"' callback:\",\n",
       "                    e,\n",
       "                    e.stack,\n",
       "                    msg\n",
       "                );\n",
       "            }\n",
       "        }\n",
       "    };\n",
       "};\n",
       "\n",
       "// from https://stackoverflow.com/questions/1114465/getting-mouse-location-in-canvas\n",
       "mpl.findpos = function (e) {\n",
       "    //this section is from http://www.quirksmode.org/js/events_properties.html\n",
       "    var targ;\n",
       "    if (!e) {\n",
       "        e = window.event;\n",
       "    }\n",
       "    if (e.target) {\n",
       "        targ = e.target;\n",
       "    } else if (e.srcElement) {\n",
       "        targ = e.srcElement;\n",
       "    }\n",
       "    if (targ.nodeType === 3) {\n",
       "        // defeat Safari bug\n",
       "        targ = targ.parentNode;\n",
       "    }\n",
       "\n",
       "    // pageX,Y are the mouse positions relative to the document\n",
       "    var boundingRect = targ.getBoundingClientRect();\n",
       "    var x = e.pageX - (boundingRect.left + document.body.scrollLeft);\n",
       "    var y = e.pageY - (boundingRect.top + document.body.scrollTop);\n",
       "\n",
       "    return { x: x, y: y };\n",
       "};\n",
       "\n",
       "/*\n",
       " * return a copy of an object with only non-object keys\n",
       " * we need this to avoid circular references\n",
       " * https://stackoverflow.com/a/24161582/3208463\n",
       " */\n",
       "function simpleKeys(original) {\n",
       "    return Object.keys(original).reduce(function (obj, key) {\n",
       "        if (typeof original[key] !== 'object') {\n",
       "            obj[key] = original[key];\n",
       "        }\n",
       "        return obj;\n",
       "    }, {});\n",
       "}\n",
       "\n",
       "mpl.figure.prototype.mouse_event = function (event, name) {\n",
       "    var canvas_pos = mpl.findpos(event);\n",
       "\n",
       "    if (name === 'button_press') {\n",
       "        this.canvas.focus();\n",
       "        this.canvas_div.focus();\n",
       "    }\n",
       "\n",
       "    var x = canvas_pos.x * this.ratio;\n",
       "    var y = canvas_pos.y * this.ratio;\n",
       "\n",
       "    this.send_message(name, {\n",
       "        x: x,\n",
       "        y: y,\n",
       "        button: event.button,\n",
       "        step: event.step,\n",
       "        guiEvent: simpleKeys(event),\n",
       "    });\n",
       "\n",
       "    /* This prevents the web browser from automatically changing to\n",
       "     * the text insertion cursor when the button is pressed.  We want\n",
       "     * to control all of the cursor setting manually through the\n",
       "     * 'cursor' event from matplotlib */\n",
       "    event.preventDefault();\n",
       "    return false;\n",
       "};\n",
       "\n",
       "mpl.figure.prototype._key_event_extra = function (_event, _name) {\n",
       "    // Handle any extra behaviour associated with a key event\n",
       "};\n",
       "\n",
       "mpl.figure.prototype.key_event = function (event, name) {\n",
       "    // Prevent repeat events\n",
       "    if (name === 'key_press') {\n",
       "        if (event.key === this._key) {\n",
       "            return;\n",
       "        } else {\n",
       "            this._key = event.key;\n",
       "        }\n",
       "    }\n",
       "    if (name === 'key_release') {\n",
       "        this._key = null;\n",
       "    }\n",
       "\n",
       "    var value = '';\n",
       "    if (event.ctrlKey && event.key !== 'Control') {\n",
       "        value += 'ctrl+';\n",
       "    }\n",
       "    else if (event.altKey && event.key !== 'Alt') {\n",
       "        value += 'alt+';\n",
       "    }\n",
       "    else if (event.shiftKey && event.key !== 'Shift') {\n",
       "        value += 'shift+';\n",
       "    }\n",
       "\n",
       "    value += 'k' + event.key;\n",
       "\n",
       "    this._key_event_extra(event, name);\n",
       "\n",
       "    this.send_message(name, { key: value, guiEvent: simpleKeys(event) });\n",
       "    return false;\n",
       "};\n",
       "\n",
       "mpl.figure.prototype.toolbar_button_onclick = function (name) {\n",
       "    if (name === 'download') {\n",
       "        this.handle_save(this, null);\n",
       "    } else {\n",
       "        this.send_message('toolbar_button', { name: name });\n",
       "    }\n",
       "};\n",
       "\n",
       "mpl.figure.prototype.toolbar_button_onmouseover = function (tooltip) {\n",
       "    this.message.textContent = tooltip;\n",
       "};\n",
       "\n",
       "///////////////// REMAINING CONTENT GENERATED BY embed_js.py /////////////////\n",
       "// prettier-ignore\n",
       "var _JSXTOOLS_RESIZE_OBSERVER=function(A){var t,i=new WeakMap,n=new WeakMap,a=new WeakMap,r=new WeakMap,o=new Set;function s(e){if(!(this instanceof s))throw new TypeError(\"Constructor requires 'new' operator\");i.set(this,e)}function h(){throw new TypeError(\"Function is not a constructor\")}function c(e,t,i,n){e=0 in arguments?Number(arguments[0]):0,t=1 in arguments?Number(arguments[1]):0,i=2 in arguments?Number(arguments[2]):0,n=3 in arguments?Number(arguments[3]):0,this.right=(this.x=this.left=e)+(this.width=i),this.bottom=(this.y=this.top=t)+(this.height=n),Object.freeze(this)}function d(){t=requestAnimationFrame(d);var s=new WeakMap,p=new Set;o.forEach((function(t){r.get(t).forEach((function(i){var r=t instanceof window.SVGElement,o=a.get(t),d=r?0:parseFloat(o.paddingTop),f=r?0:parseFloat(o.paddingRight),l=r?0:parseFloat(o.paddingBottom),u=r?0:parseFloat(o.paddingLeft),g=r?0:parseFloat(o.borderTopWidth),m=r?0:parseFloat(o.borderRightWidth),w=r?0:parseFloat(o.borderBottomWidth),b=u+f,F=d+l,v=(r?0:parseFloat(o.borderLeftWidth))+m,W=g+w,y=r?0:t.offsetHeight-W-t.clientHeight,E=r?0:t.offsetWidth-v-t.clientWidth,R=b+v,z=F+W,M=r?t.width:parseFloat(o.width)-R-E,O=r?t.height:parseFloat(o.height)-z-y;if(n.has(t)){var k=n.get(t);if(k[0]===M&&k[1]===O)return}n.set(t,[M,O]);var S=Object.create(h.prototype);S.target=t,S.contentRect=new c(u,d,M,O),s.has(i)||(s.set(i,[]),p.add(i)),s.get(i).push(S)}))})),p.forEach((function(e){i.get(e).call(e,s.get(e),e)}))}return s.prototype.observe=function(i){if(i instanceof window.Element){r.has(i)||(r.set(i,new Set),o.add(i),a.set(i,window.getComputedStyle(i)));var n=r.get(i);n.has(this)||n.add(this),cancelAnimationFrame(t),t=requestAnimationFrame(d)}},s.prototype.unobserve=function(i){if(i instanceof window.Element&&r.has(i)){var n=r.get(i);n.has(this)&&(n.delete(this),n.size||(r.delete(i),o.delete(i))),n.size||r.delete(i),o.size||cancelAnimationFrame(t)}},A.DOMRectReadOnly=c,A.ResizeObserver=s,A.ResizeObserverEntry=h,A}; // eslint-disable-line\n",
       "mpl.toolbar_items = [[\"Home\", \"Reset original view\", \"fa fa-home icon-home\", \"home\"], [\"Back\", \"Back to previous view\", \"fa fa-arrow-left icon-arrow-left\", \"back\"], [\"Forward\", \"Forward to next view\", \"fa fa-arrow-right icon-arrow-right\", \"forward\"], [\"\", \"\", \"\", \"\"], [\"Pan\", \"Left button pans, Right button zooms\\nx/y fixes axis, CTRL fixes aspect\", \"fa fa-arrows icon-move\", \"pan\"], [\"Zoom\", \"Zoom to rectangle\\nx/y fixes axis\", \"fa fa-square-o icon-check-empty\", \"zoom\"], [\"\", \"\", \"\", \"\"], [\"Download\", \"Download plot\", \"fa fa-floppy-o icon-save\", \"download\"]];\n",
       "\n",
       "mpl.extensions = [\"eps\", \"jpeg\", \"pgf\", \"pdf\", \"png\", \"ps\", \"raw\", \"svg\", \"tif\"];\n",
       "\n",
       "mpl.default_extension = \"png\";/* global mpl */\n",
       "\n",
       "var comm_websocket_adapter = function (comm) {\n",
       "    // Create a \"websocket\"-like object which calls the given IPython comm\n",
       "    // object with the appropriate methods. Currently this is a non binary\n",
       "    // socket, so there is still some room for performance tuning.\n",
       "    var ws = {};\n",
       "\n",
       "    ws.binaryType = comm.kernel.ws.binaryType;\n",
       "    ws.readyState = comm.kernel.ws.readyState;\n",
       "    function updateReadyState(_event) {\n",
       "        if (comm.kernel.ws) {\n",
       "            ws.readyState = comm.kernel.ws.readyState;\n",
       "        } else {\n",
       "            ws.readyState = 3; // Closed state.\n",
       "        }\n",
       "    }\n",
       "    comm.kernel.ws.addEventListener('open', updateReadyState);\n",
       "    comm.kernel.ws.addEventListener('close', updateReadyState);\n",
       "    comm.kernel.ws.addEventListener('error', updateReadyState);\n",
       "\n",
       "    ws.close = function () {\n",
       "        comm.close();\n",
       "    };\n",
       "    ws.send = function (m) {\n",
       "        //console.log('sending', m);\n",
       "        comm.send(m);\n",
       "    };\n",
       "    // Register the callback with on_msg.\n",
       "    comm.on_msg(function (msg) {\n",
       "        //console.log('receiving', msg['content']['data'], msg);\n",
       "        var data = msg['content']['data'];\n",
       "        if (data['blob'] !== undefined) {\n",
       "            data = {\n",
       "                data: new Blob(msg['buffers'], { type: data['blob'] }),\n",
       "            };\n",
       "        }\n",
       "        // Pass the mpl event to the overridden (by mpl) onmessage function.\n",
       "        ws.onmessage(data);\n",
       "    });\n",
       "    return ws;\n",
       "};\n",
       "\n",
       "mpl.mpl_figure_comm = function (comm, msg) {\n",
       "    // This is the function which gets called when the mpl process\n",
       "    // starts-up an IPython Comm through the \"matplotlib\" channel.\n",
       "\n",
       "    var id = msg.content.data.id;\n",
       "    // Get hold of the div created by the display call when the Comm\n",
       "    // socket was opened in Python.\n",
       "    var element = document.getElementById(id);\n",
       "    var ws_proxy = comm_websocket_adapter(comm);\n",
       "\n",
       "    function ondownload(figure, _format) {\n",
       "        window.open(figure.canvas.toDataURL());\n",
       "    }\n",
       "\n",
       "    var fig = new mpl.figure(id, ws_proxy, ondownload, element);\n",
       "\n",
       "    // Call onopen now - mpl needs it, as it is assuming we've passed it a real\n",
       "    // web socket which is closed, not our websocket->open comm proxy.\n",
       "    ws_proxy.onopen();\n",
       "\n",
       "    fig.parent_element = element;\n",
       "    fig.cell_info = mpl.find_output_cell(\"<div id='\" + id + \"'></div>\");\n",
       "    if (!fig.cell_info) {\n",
       "        console.error('Failed to find cell for figure', id, fig);\n",
       "        return;\n",
       "    }\n",
       "    fig.cell_info[0].output_area.element.on(\n",
       "        'cleared',\n",
       "        { fig: fig },\n",
       "        fig._remove_fig_handler\n",
       "    );\n",
       "};\n",
       "\n",
       "mpl.figure.prototype.handle_close = function (fig, msg) {\n",
       "    var width = fig.canvas.width / fig.ratio;\n",
       "    fig.cell_info[0].output_area.element.off(\n",
       "        'cleared',\n",
       "        fig._remove_fig_handler\n",
       "    );\n",
       "    fig.resizeObserverInstance.unobserve(fig.canvas_div);\n",
       "\n",
       "    // Update the output cell to use the data from the current canvas.\n",
       "    fig.push_to_output();\n",
       "    var dataURL = fig.canvas.toDataURL();\n",
       "    // Re-enable the keyboard manager in IPython - without this line, in FF,\n",
       "    // the notebook keyboard shortcuts fail.\n",
       "    IPython.keyboard_manager.enable();\n",
       "    fig.parent_element.innerHTML =\n",
       "        '<img src=\"' + dataURL + '\" width=\"' + width + '\">';\n",
       "    fig.close_ws(fig, msg);\n",
       "};\n",
       "\n",
       "mpl.figure.prototype.close_ws = function (fig, msg) {\n",
       "    fig.send_message('closing', msg);\n",
       "    // fig.ws.close()\n",
       "};\n",
       "\n",
       "mpl.figure.prototype.push_to_output = function (_remove_interactive) {\n",
       "    // Turn the data on the canvas into data in the output cell.\n",
       "    var width = this.canvas.width / this.ratio;\n",
       "    var dataURL = this.canvas.toDataURL();\n",
       "    this.cell_info[1]['text/html'] =\n",
       "        '<img src=\"' + dataURL + '\" width=\"' + width + '\">';\n",
       "};\n",
       "\n",
       "mpl.figure.prototype.updated_canvas_event = function () {\n",
       "    // Tell IPython that the notebook contents must change.\n",
       "    IPython.notebook.set_dirty(true);\n",
       "    this.send_message('ack', {});\n",
       "    var fig = this;\n",
       "    // Wait a second, then push the new image to the DOM so\n",
       "    // that it is saved nicely (might be nice to debounce this).\n",
       "    setTimeout(function () {\n",
       "        fig.push_to_output();\n",
       "    }, 1000);\n",
       "};\n",
       "\n",
       "mpl.figure.prototype._init_toolbar = function () {\n",
       "    var fig = this;\n",
       "\n",
       "    var toolbar = document.createElement('div');\n",
       "    toolbar.classList = 'btn-toolbar';\n",
       "    this.root.appendChild(toolbar);\n",
       "\n",
       "    function on_click_closure(name) {\n",
       "        return function (_event) {\n",
       "            return fig.toolbar_button_onclick(name);\n",
       "        };\n",
       "    }\n",
       "\n",
       "    function on_mouseover_closure(tooltip) {\n",
       "        return function (event) {\n",
       "            if (!event.currentTarget.disabled) {\n",
       "                return fig.toolbar_button_onmouseover(tooltip);\n",
       "            }\n",
       "        };\n",
       "    }\n",
       "\n",
       "    fig.buttons = {};\n",
       "    var buttonGroup = document.createElement('div');\n",
       "    buttonGroup.classList = 'btn-group';\n",
       "    var button;\n",
       "    for (var toolbar_ind in mpl.toolbar_items) {\n",
       "        var name = mpl.toolbar_items[toolbar_ind][0];\n",
       "        var tooltip = mpl.toolbar_items[toolbar_ind][1];\n",
       "        var image = mpl.toolbar_items[toolbar_ind][2];\n",
       "        var method_name = mpl.toolbar_items[toolbar_ind][3];\n",
       "\n",
       "        if (!name) {\n",
       "            /* Instead of a spacer, we start a new button group. */\n",
       "            if (buttonGroup.hasChildNodes()) {\n",
       "                toolbar.appendChild(buttonGroup);\n",
       "            }\n",
       "            buttonGroup = document.createElement('div');\n",
       "            buttonGroup.classList = 'btn-group';\n",
       "            continue;\n",
       "        }\n",
       "\n",
       "        button = fig.buttons[name] = document.createElement('button');\n",
       "        button.classList = 'btn btn-default';\n",
       "        button.href = '#';\n",
       "        button.title = name;\n",
       "        button.innerHTML = '<i class=\"fa ' + image + ' fa-lg\"></i>';\n",
       "        button.addEventListener('click', on_click_closure(method_name));\n",
       "        button.addEventListener('mouseover', on_mouseover_closure(tooltip));\n",
       "        buttonGroup.appendChild(button);\n",
       "    }\n",
       "\n",
       "    if (buttonGroup.hasChildNodes()) {\n",
       "        toolbar.appendChild(buttonGroup);\n",
       "    }\n",
       "\n",
       "    // Add the status bar.\n",
       "    var status_bar = document.createElement('span');\n",
       "    status_bar.classList = 'mpl-message pull-right';\n",
       "    toolbar.appendChild(status_bar);\n",
       "    this.message = status_bar;\n",
       "\n",
       "    // Add the close button to the window.\n",
       "    var buttongrp = document.createElement('div');\n",
       "    buttongrp.classList = 'btn-group inline pull-right';\n",
       "    button = document.createElement('button');\n",
       "    button.classList = 'btn btn-mini btn-primary';\n",
       "    button.href = '#';\n",
       "    button.title = 'Stop Interaction';\n",
       "    button.innerHTML = '<i class=\"fa fa-power-off icon-remove icon-large\"></i>';\n",
       "    button.addEventListener('click', function (_evt) {\n",
       "        fig.handle_close(fig, {});\n",
       "    });\n",
       "    button.addEventListener(\n",
       "        'mouseover',\n",
       "        on_mouseover_closure('Stop Interaction')\n",
       "    );\n",
       "    buttongrp.appendChild(button);\n",
       "    var titlebar = this.root.querySelector('.ui-dialog-titlebar');\n",
       "    titlebar.insertBefore(buttongrp, titlebar.firstChild);\n",
       "};\n",
       "\n",
       "mpl.figure.prototype._remove_fig_handler = function (event) {\n",
       "    var fig = event.data.fig;\n",
       "    if (event.target !== this) {\n",
       "        // Ignore bubbled events from children.\n",
       "        return;\n",
       "    }\n",
       "    fig.close_ws(fig, {});\n",
       "};\n",
       "\n",
       "mpl.figure.prototype._root_extra_style = function (el) {\n",
       "    el.style.boxSizing = 'content-box'; // override notebook setting of border-box.\n",
       "};\n",
       "\n",
       "mpl.figure.prototype._canvas_extra_style = function (el) {\n",
       "    // this is important to make the div 'focusable\n",
       "    el.setAttribute('tabindex', 0);\n",
       "    // reach out to IPython and tell the keyboard manager to turn it's self\n",
       "    // off when our div gets focus\n",
       "\n",
       "    // location in version 3\n",
       "    if (IPython.notebook.keyboard_manager) {\n",
       "        IPython.notebook.keyboard_manager.register_events(el);\n",
       "    } else {\n",
       "        // location in version 2\n",
       "        IPython.keyboard_manager.register_events(el);\n",
       "    }\n",
       "};\n",
       "\n",
       "mpl.figure.prototype._key_event_extra = function (event, _name) {\n",
       "    // Check for shift+enter\n",
       "    if (event.shiftKey && event.which === 13) {\n",
       "        this.canvas_div.blur();\n",
       "        // select the cell after this one\n",
       "        var index = IPython.notebook.find_cell_index(this.cell_info[0]);\n",
       "        IPython.notebook.select(index + 1);\n",
       "    }\n",
       "};\n",
       "\n",
       "mpl.figure.prototype.handle_save = function (fig, _msg) {\n",
       "    fig.ondownload(fig, null);\n",
       "};\n",
       "\n",
       "mpl.find_output_cell = function (html_output) {\n",
       "    // Return the cell and output element which can be found *uniquely* in the notebook.\n",
       "    // Note - this is a bit hacky, but it is done because the \"notebook_saving.Notebook\"\n",
       "    // IPython event is triggered only after the cells have been serialised, which for\n",
       "    // our purposes (turning an active figure into a static one), is too late.\n",
       "    var cells = IPython.notebook.get_cells();\n",
       "    var ncells = cells.length;\n",
       "    for (var i = 0; i < ncells; i++) {\n",
       "        var cell = cells[i];\n",
       "        if (cell.cell_type === 'code') {\n",
       "            for (var j = 0; j < cell.output_area.outputs.length; j++) {\n",
       "                var data = cell.output_area.outputs[j];\n",
       "                if (data.data) {\n",
       "                    // IPython >= 3 moved mimebundle to data attribute of output\n",
       "                    data = data.data;\n",
       "                }\n",
       "                if (data['text/html'] === html_output) {\n",
       "                    return [cell, data, j];\n",
       "                }\n",
       "            }\n",
       "        }\n",
       "    }\n",
       "};\n",
       "\n",
       "// Register the function which deals with the matplotlib target/channel.\n",
       "// The kernel may be null if the page has been refreshed.\n",
       "if (IPython.notebook.kernel !== null) {\n",
       "    IPython.notebook.kernel.comm_manager.register_target(\n",
       "        'matplotlib',\n",
       "        mpl.mpl_figure_comm\n",
       "    );\n",
       "}\n"
      ],
      "text/plain": [
       "<IPython.core.display.Javascript object>"
      ]
     },
     "metadata": {},
     "output_type": "display_data"
    },
    {
     "data": {
      "text/html": [
       "<img src=\"data:image/png;base64,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\" width=\"800\">"
      ],
      "text/plain": [
       "<IPython.core.display.HTML object>"
      ]
     },
     "metadata": {},
     "output_type": "display_data"
    }
   ],
   "source": [
    "fig, axs = plt.subplots(2, figsize=(8,8))\n",
    "\n",
    "axs[0].plot(c_range, f_values, label=\"df/dc term to minimize\")\n",
    "axs[0].hlines(0, min(c_range), max(c_range), 'r', label=\"f=0\")\n",
    "\n",
    "x_ = np.linspace(-0.5, 0.5, 100)\n",
    "y_ = (x_-loc_)/scale_\n",
    "rvx = st.burr(c_, d_, loc_, scale_)\n",
    "rvy = st.burr(c_, d_)\n",
    "axs[1].plot(x_, rvx.pdf(x_), 'k-', label='burr x pdf')\n",
    "axs[1].plot(y_, rvy.pdf(y_), 'k-', label='burr y pdf')\n",
    "x_range = st.burr.rvs(c_, d_, loc_, scale_, size=1000, random_state=0)\n",
    "y_range = [(x-loc_)/scale_ for x in x_range]\n",
    "axs[1].hist(x_range, density=True, histtype='stepfilled', alpha=0.2, label=\"x - residuals\")\n",
    "axs[1].hist(y_range, density=True, histtype='stepfilled', alpha=0.2, label=\"y - x after shift and scale\")\n",
    "\n",
    "fig.suptitle(\"Minimizing the gradient of the Burr Likelihood Function\")\n",
    "axs[0].legend()\n",
    "axs[1].legend()\n",
    "axs[0].set_title(\"Value of f (needs to be approach 0)\")\n",
    "axs[1].set_title(\"Theoritical distributions of x and y\")\n",
    "plt.show()"
   ]
  },
  {
   "cell_type": "markdown",
   "id": "c1d4c5ed",
   "metadata": {
    "heading_collapsed": true,
    "hidden": true
   },
   "source": [
    "## Extract the values of c_hat and d_hat"
   ]
  },
  {
   "cell_type": "code",
   "execution_count": 117,
   "id": "e8729709",
   "metadata": {
    "hidden": true
   },
   "outputs": [],
   "source": [
    "c_hat = 28.415"
   ]
  },
  {
   "cell_type": "code",
   "execution_count": 118,
   "id": "eef96f49",
   "metadata": {
    "hidden": true
   },
   "outputs": [],
   "source": [
    "d_hat = find_d(vel_resids, c_hat)"
   ]
  },
  {
   "cell_type": "code",
   "execution_count": 119,
   "id": "80985355",
   "metadata": {
    "hidden": true
   },
   "outputs": [
    {
     "name": "stdout",
     "output_type": "stream",
     "text": [
      "c_hat = 28.415 \n",
      "d_hat = 0.9289893738250402\n"
     ]
    }
   ],
   "source": [
    "print(f\"c_hat = {c_hat} \\nd_hat = {d_hat}\")"
   ]
  },
  {
   "cell_type": "markdown",
   "id": "3777c275",
   "metadata": {
    "heading_collapsed": true,
    "hidden": true
   },
   "source": [
    "## Calculate log-likelihod under MLE parameters c_hat & d_hat"
   ]
  },
  {
   "cell_type": "code",
   "execution_count": 120,
   "id": "9a5b26c2",
   "metadata": {
    "hidden": true
   },
   "outputs": [
    {
     "data": {
      "text/latex": [
       "$\\displaystyle \\log{\\left(c d \\left(1 + {x}_{i}^{- c}\\right)^{- d - 1} {x}_{i}^{- c - 1} \\right)}$"
      ],
      "text/plain": [
       "log(c*d*(1 + x[i]**(-c))**(-d - 1)*x[i]**(-c - 1))"
      ]
     },
     "execution_count": 120,
     "metadata": {},
     "output_type": "execute_result"
    }
   ],
   "source": [
    "log_burr_pdf"
   ]
  },
  {
   "cell_type": "code",
   "execution_count": 121,
   "id": "c805dce3",
   "metadata": {
    "hidden": true
   },
   "outputs": [
    {
     "data": {
      "text/latex": [
       "$\\displaystyle c d \\left(1 + {x}_{i}^{- c}\\right)^{- d - 1} {x}_{i}^{- c - 1}$"
      ],
      "text/plain": [
       "c*d*(1 + x[i]**(-c))**(-d - 1)*x[i]**(-c - 1)"
      ]
     },
     "execution_count": 121,
     "metadata": {},
     "output_type": "execute_result"
    }
   ],
   "source": [
    "burr_pdf"
   ]
  },
  {
   "cell_type": "code",
   "execution_count": 122,
   "id": "ccbe2798",
   "metadata": {
    "hidden": true
   },
   "outputs": [
    {
     "data": {
      "text/latex": [
       "$\\displaystyle \\log{\\left(\\frac{26.3972330572385}{\\left({x}_{i}^{-28.415} + 1\\right)^{1.92898937382504} {x}_{i}^{29.415}} \\right)}$"
      ],
      "text/plain": [
       "log(26.3972330572385/((x[i]**(-28.415) + 1)**1.92898937382504*x[i]**29.415))"
      ]
     },
     "execution_count": 122,
     "metadata": {},
     "output_type": "execute_result"
    }
   ],
   "source": [
    "log_burr_pdf.subs({c:c_hat, d:d_hat})"
   ]
  },
  {
   "cell_type": "code",
   "execution_count": 123,
   "id": "1a0d190b",
   "metadata": {
    "hidden": true
   },
   "outputs": [
    {
     "data": {
      "text/latex": [
       "$\\displaystyle \\frac{26.3972330572385}{\\left({x}_{i}^{-28.415} + 1\\right)^{1.92898937382504} {x}_{i}^{29.415}}$"
      ],
      "text/plain": [
       "26.3972330572385/((x[i]**(-28.415) + 1)**1.92898937382504*x[i]**29.415)"
      ]
     },
     "execution_count": 123,
     "metadata": {},
     "output_type": "execute_result"
    }
   ],
   "source": [
    "f0 = burr_pdf.subs({c:c_hat, d:d_hat})\n",
    "f0"
   ]
  },
  {
   "cell_type": "code",
   "execution_count": null,
   "id": "3b9633e7",
   "metadata": {
    "hidden": true
   },
   "outputs": [],
   "source": []
  },
  {
   "cell_type": "markdown",
   "id": "b4c7488f",
   "metadata": {
    "hidden": true
   },
   "source": [
    "## Maybe Paper - Calculate c_hat for Burr numerically\n",
    "using the equations from https://arxiv.org/pdf/1901.09299.pdf"
   ]
  },
  {
   "cell_type": "markdown",
   "id": "86f99c2f",
   "metadata": {},
   "source": [
    "# END"
   ]
  },
  {
   "cell_type": "code",
   "execution_count": null,
   "id": "746ad8d8",
   "metadata": {},
   "outputs": [],
   "source": []
  }
 ],
 "metadata": {
  "kernelspec": {
   "display_name": "Python 3 (ipykernel)",
   "language": "python",
   "name": "python3"
  },
  "language_info": {
   "codemirror_mode": {
    "name": "ipython",
    "version": 3
   },
   "file_extension": ".py",
   "mimetype": "text/x-python",
   "name": "python",
   "nbconvert_exporter": "python",
   "pygments_lexer": "ipython3",
   "version": "3.9.7"
  }
 },
 "nbformat": 4,
 "nbformat_minor": 5
}
